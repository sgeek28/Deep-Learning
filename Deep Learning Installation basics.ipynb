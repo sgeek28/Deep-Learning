{
 "cells": [
  {
   "cell_type": "markdown",
   "metadata": {},
   "source": [
    "### Creating and Activating anaconda environement"
   ]
  },
  {
   "cell_type": "markdown",
   "metadata": {},
   "source": [
    "#### We need to create environments so that there is not any version conflict. It's better to create environment for new projects"
   ]
  },
  {
   "cell_type": "markdown",
   "metadata": {},
   "source": [
    "- Install anaconda on linux. Refer Useful Links doc to get the download link.\n",
    "- Run these two commands one after another to activate anaconda\n",
    "- source ~/anaconda3/bin/activate root and anaconda-navigator\n",
    "- create conda environment using : conda create -n sgeek28env python=3.8.2 (in my case python version is 3.8.2)\n",
    "- activate this environment using : conda activate sgeek28env( my environment name is sgeek28)\n",
    "- you can see the name of environment in prompt if activated successfully.\n",
    "- to see the list of packages installed in this environment use : conda list\n",
    "- to install numpy, pandas and matplotlib use: conda install numpy pandas matplotlib\n",
    "- to install jupyter notebook use: conda install jupyter notebook\n",
    "- to deactivate environment use: conda deactivate\n"
   ]
  },
  {
   "cell_type": "code",
   "execution_count": null,
   "metadata": {},
   "outputs": [],
   "source": []
  }
 ],
 "metadata": {
  "kernelspec": {
   "display_name": "Python 3",
   "language": "python",
   "name": "python3"
  },
  "language_info": {
   "codemirror_mode": {
    "name": "ipython",
    "version": 3
   },
   "file_extension": ".py",
   "mimetype": "text/x-python",
   "name": "python",
   "nbconvert_exporter": "python",
   "pygments_lexer": "ipython3",
   "version": "3.8.2"
  }
 },
 "nbformat": 4,
 "nbformat_minor": 2
}
